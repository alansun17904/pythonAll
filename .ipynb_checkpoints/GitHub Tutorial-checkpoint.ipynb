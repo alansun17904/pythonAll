{
 "cells": [
  {
   "cell_type": "markdown",
   "metadata": {},
   "source": [
    "# GitHub Commands\n",
    "Repository: The folder where we store the master code.\n",
    "Commit: Adds it to the staging ground (local), and attached a message, closest thing to save.\n",
    "\n",
    "`git commit -m \"first commit\"`\n",
    "\n",
    "Push: Once you do a git push, you have added it to the remote repository. Once you push the content, local content is saved.\n",
    "\n",
    "`git push`\n",
    "\n",
    "Pull: Take the content from the repository and add it to your local copy.\n",
    "\n",
    "`git pull`\n",
    "- pull request: Request a pull, they think their ready for others to pull.\n",
    "- if it doesn't work then they can close the pull request.\n",
    "- if it looks good, it gets approved.\n",
    "\n",
    "Init: It makes a new repository.\n",
    "\n",
    "`git init`\n",
    "\n",
    "Clone: Makes a copy from the repository.\n",
    "\n",
    "`git clone`\n",
    "\n",
    "Tracker: Need to add to github tracker, or else nothing will show up even if you commit. The dot adds everything in the current directory to the repository. *Add it to the staging ground.* A version history.\n",
    "\n",
    "`git add .` \n",
    "\n",
    "Branch: You own copy of that repository. Don't open the project and create a branch.\n",
    "(master Branch)\n",
    "\n",
    "- Creating a new branch `git branch -b \"(branch name)\"` makes a new branch off the origin\n",
    "- Switching branches `git checkout origin/development` first switching your origin\n",
    "- local copy > remote copy\n",
    "- naming branches \"name-workingon\"\n",
    "\n",
    "Merge: Take two or more copies and combine them into one. When you pull you are merging with the local copy.\n",
    "- Conflict: changes do not play nice. Decide how to resolve this conflict, (might take one copy over the other, in extremely rare cases), most of the time look through the lines of code. \n",
    "\n",
    "\n",
    "1. pull\n",
    "2. checkout\n",
    "3. branch"
   ]
  },
  {
   "cell_type": "code",
   "execution_count": 1,
   "metadata": {},
   "outputs": [
    {
     "ename": "NameError",
     "evalue": "name 'x' is not defined",
     "output_type": "error",
     "traceback": [
      "\u001b[0;31m---------------------------------------------------------------------------\u001b[0m",
      "\u001b[0;31mNameError\u001b[0m                                 Traceback (most recent call last)",
      "\u001b[0;32m<ipython-input-1-6fcf9dfbd479>\u001b[0m in \u001b[0;36m<module>\u001b[0;34m()\u001b[0m\n\u001b[0;32m----> 1\u001b[0;31m \u001b[0mx\u001b[0m\u001b[0;34m\u001b[0m\u001b[0m\n\u001b[0m",
      "\u001b[0;31mNameError\u001b[0m: name 'x' is not defined"
     ]
    }
   ],
   "source": [
    "x"
   ]
  },
  {
   "cell_type": "code",
   "execution_count": null,
   "metadata": {},
   "outputs": [],
   "source": []
  }
 ],
 "metadata": {
  "kernelspec": {
   "display_name": "Python 3",
   "language": "python",
   "name": "python3"
  },
  "language_info": {
   "codemirror_mode": {
    "name": "ipython",
    "version": 3
   },
   "file_extension": ".py",
   "mimetype": "text/x-python",
   "name": "python",
   "nbconvert_exporter": "python",
   "pygments_lexer": "ipython3",
   "version": "3.5.5"
  }
 },
 "nbformat": 4,
 "nbformat_minor": 2
}
