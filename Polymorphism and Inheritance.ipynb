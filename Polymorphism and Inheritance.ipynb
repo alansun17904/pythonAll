{
 "cells": [
  {
   "cell_type": "markdown",
   "metadata": {},
   "source": [
    "                                                   Animal - Interface\n",
    "                                                    * eat \n",
    "                                                    * reproduce\n",
    "                                                    * name\n",
    "                                   +-------------------------------------------+\n",
    "                                  /        /       /        |         \\         \\ \n",
    "                            Reptiles      Fish   Insects  Birds     Amphibian  Mammals \n",
    "                        * cold-blooded                                         * warm-blooded\n",
    "                        * vertebrates                                          * vertebrates\n",
    "                        * eggs                                                 * special teeth\n",
    "                                +---------+--+----------------+--+-----------------+\n",
    "                                |         /   \\               /   \\                | - Terrestrial ------------+\n",
    "         +------Omnivores-------+        /     \\            Aerial  Terrestrial    | - Aquatic ------+         |\n",
    "         |   +-Carnivores-------+    Freshwater  Saltwater                         | - Aerial --+    |         |\n",
    "         |   |                  |         |          |                                 * wings  |    | * fins  |\n",
    "         +---+----------------------------+----------+------------------------------------------+----+---------+\n",
    "         |   | Herbevores-------+         |          |                                          |    |         |  \n",
    "      Turtle |      |                  Piranha     Clownfish                                Bat   Dolphin   Elephant      Chameleon Iguana "
   ]
  },
  {
   "cell_type": "markdown",
   "metadata": {},
   "source": [
    "# Polymorphism\n",
    "The process of which an object assumes multiple types. \n",
    "\n",
    "Java - Hashmap\n",
    "\n",
    "## Static Methods\n",
    "- It is the same across all instances\n",
    "- Eat, reproduce, name would non-static because they are all different.\n",
    "- Flying could be static because it is shared.\n",
    "\n",
    "```python\n",
    "class Dog:\n",
    "    def __init__(self,name):  # creates an instance of an object that is based on a class\n",
    "        self.name = name  # self is a convention, defined by the user\n",
    "        self.legs = 4 \n",
    "        self.size = 5\n",
    "        \n",
    "    def bark(self): # non-static method\n",
    "        return \"bark! ... bark! ... : \" + str(self.name)\n",
    "```\n",
    "- to make a method static while it is in the class you need to use a decorator to inject code\n",
    "```python\n",
    "class Dog:\n",
    "    def __init__(self,name):  # creates an instance of an object that is based on a class\n",
    "        self.name = name  # self is a convention, defined by the user\n",
    "        self.legs = 4 \n",
    "        self.size = 5\n",
    "    \n",
    "    @staticmethod\n",
    "    def bark(): # static method\n",
    "        return \"bark! ... bark! ... : \"\n",
    "```"
   ]
  },
  {
   "cell_type": "markdown",
   "metadata": {},
   "source": [
    "### A simple Dog interface"
   ]
  },
  {
   "cell_type": "code",
   "execution_count": 3,
   "metadata": {},
   "outputs": [],
   "source": [
    "class Dog:\n",
    "    def __init__(self,name):  # creates an instance of an object that is based on a class\n",
    "        self.name = name  # self is a convention, defined by the user\n",
    "        self.legs = 4 \n",
    "        self.size = 5\n",
    "        \n",
    "    def bark(self): # non-static method\n",
    "        return \"bark! ... bark! ... : \" + str(self.name)"
   ]
  },
  {
   "cell_type": "code",
   "execution_count": 9,
   "metadata": {},
   "outputs": [],
   "source": [
    "class Dalmatian(Dog): # extends dog\n",
    "    def __init__(self,name):\n",
    "        super().__init__(name) # calling the construct of the super class, gets passed to parent constructor\n",
    "        # all the properties are inherited, and the methods\n",
    "        self.color = 'black'"
   ]
  },
  {
   "cell_type": "code",
   "execution_count": 16,
   "metadata": {},
   "outputs": [],
   "source": [
    "class Bulldog(Dog):\n",
    "    def __init__(self,name):\n",
    "        super().__init__(name)\n",
    "        # overloaing the property\n",
    "        self. size = 3\n",
    "        self.color = 'brindle'\n",
    "        self.ear_size = 1\n",
    "        \n",
    "    def bark(self): # overriding is providing a different implementation \n",
    "        return \"growl ... growl ... : \" + str(self.name) \n",
    "    \n",
    "    def size(self): # setters and getter are bad\n",
    "        return self.size "
   ]
  },
  {
   "cell_type": "code",
   "execution_count": 36,
   "metadata": {},
   "outputs": [],
   "source": [
    "class FrenchBullDog(Bulldog):\n",
    "    def __init__(self,name):\n",
    "        super().__init__(name)\n",
    "        # overloaing the property\n",
    "        self.size = 2\n",
    "        self.ear_size = 4\n",
    "        self._collar = 'blue' # python does not distingush between methods and variables\n",
    "    \n",
    "    def bark(self):\n",
    "        return \"yip! ... yip! ... : \" + str(self.name)\n",
    "    \n",
    "    @property # we want to enforce how you can change and how you can access\n",
    "    def collar(self): # getter\n",
    "        return self._collar # need underscore can't distingush\n",
    "    \n",
    "    @collar.setter # implement a setter\n",
    "    def collar(self,value):\n",
    "        '''\n",
    "        treating it as an attribute, but actually calling a method,\n",
    "        to change behavior itself, not change other people's code.\n",
    "        '''\n",
    "        if value == 'yellow':\n",
    "            print(\"French Bull Dogs don't wear yellow collars!\")\n",
    "            print(\"Defaulting back to blue...\")\n",
    "        else:\n",
    "            self._collar = value\n",
    "        self._collar = 'blue'\n",
    "        \n",
    "    @collar.deleter # removes this property\n",
    "    def collar(self):\n",
    "        del self._collar\n",
    "    \n",
    "    @staticmethod\n",
    "    def walk():\n",
    "        return \"Let's go to Central Park!\""
   ]
  },
  {
   "cell_type": "code",
   "execution_count": 39,
   "metadata": {},
   "outputs": [
    {
     "name": "stdout",
     "output_type": "stream",
     "text": [
      "Spot\n",
      "bark! ... bark! ... : Spot\n",
      "Perdita\n",
      "bark! ... bark! ... : Perdita\n",
      "Meatball\n",
      "growl ... growl ... : Meatball\n",
      "Jacques\n",
      "yip! ... yip! ... : Jacques\n",
      "Let's go to Central Park!\n",
      "Let's go to Central Park!\n",
      "French Bull Dogs don't wear yellow collars!\n",
      "Defaulting back to blue...\n",
      "jacques collar: blue\n",
      "['__abs__', '__add__', '__and__', '__bool__', '__ceil__', '__class__', '__delattr__', '__dir__', '__divmod__', '__doc__', '__eq__', '__float__', '__floor__', '__floordiv__', '__format__', '__ge__', '__getattribute__', '__getnewargs__', '__gt__', '__hash__', '__index__', '__init__', '__int__', '__invert__', '__le__', '__lshift__', '__lt__', '__mod__', '__mul__', '__ne__', '__neg__', '__new__', '__or__', '__pos__', '__pow__', '__radd__', '__rand__', '__rdivmod__', '__reduce__', '__reduce_ex__', '__repr__', '__rfloordiv__', '__rlshift__', '__rmod__', '__rmul__', '__ror__', '__round__', '__rpow__', '__rrshift__', '__rshift__', '__rsub__', '__rtruediv__', '__rxor__', '__setattr__', '__sizeof__', '__str__', '__sub__', '__subclasshook__', '__truediv__', '__trunc__', '__xor__', 'bit_length', 'conjugate', 'denominator', 'from_bytes', 'imag', 'numerator', 'real', 'to_bytes']\n"
     ]
    }
   ],
   "source": [
    "def main():\n",
    "    spot = Dog('Spot')\n",
    "    perdita = Dalmatian('Perdita')\n",
    "    meatball = Bulldog('Meatball')\n",
    "    jacques = FrenchBullDog('Jacques')\n",
    "    \n",
    "    for dog in (spot, perdita, meatball, jacques):\n",
    "        print(dog.name) # multiple different types of implementation\n",
    "        print(dog.bark()) # because all of these objects in the tuple are dogs\n",
    "\n",
    "    print(FrenchBullDog.walk())\n",
    "    print(jacques.walk()) # because static method, must refer to class not instance\n",
    "        \n",
    "    # print(meatball.size())\n",
    "    \n",
    "    jacques.collar = 'yellow' # decide that its forbidden to have yellow as collar\n",
    "    print(\"jacques collar: \" + jacques.collar)\n",
    "    \n",
    "    # introspection: can we examine objects at runtime, there is no difference between primitives and objects\n",
    "    print(dir(2))\n",
    "    \n",
    "if __name__ == '__main__':\n",
    "    main()"
   ]
  },
  {
   "cell_type": "markdown",
   "metadata": {},
   "source": [
    "# Inheritance\n",
    "When a subclass inherits methods from a super class. Objects recieve definitions.\n",
    "Diamond of death - unsolvable problem : multiple inheritence\n",
    "- You cannot define default implementations of an interface or abstract class: Can't make an instance of Mammal\n",
    "- A class stops being a abstract class at the bottom, can make instances, at the lowest."
   ]
  }
 ],
 "metadata": {
  "kernelspec": {
   "display_name": "Python 3",
   "language": "python",
   "name": "python3"
  },
  "language_info": {
   "codemirror_mode": {
    "name": "ipython",
    "version": 3
   },
   "file_extension": ".py",
   "mimetype": "text/x-python",
   "name": "python",
   "nbconvert_exporter": "python",
   "pygments_lexer": "ipython3",
   "version": "3.5.5"
  }
 },
 "nbformat": 4,
 "nbformat_minor": 2
}
