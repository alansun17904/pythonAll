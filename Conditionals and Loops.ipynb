{
 "cells": [
  {
   "cell_type": "markdown",
   "metadata": {},
   "source": [
    "# Conditionals\n",
    "\n",
    "Scope: Whitespace determines the scope of code."
   ]
  },
  {
   "cell_type": "code",
   "execution_count": 5,
   "metadata": {},
   "outputs": [],
   "source": [
    "if not True or not True: # results in false\n",
    "    print('this won\\'t show')"
   ]
  },
  {
   "cell_type": "code",
   "execution_count": 8,
   "metadata": {},
   "outputs": [],
   "source": [
    "if not (True or False): # results in false\n",
    "    print('grouping stuff together')"
   ]
  },
  {
   "cell_type": "code",
   "execution_count": 9,
   "metadata": {},
   "outputs": [
    {
     "name": "stdout",
     "output_type": "stream",
     "text": [
      "what's popping\n"
     ]
    }
   ],
   "source": [
    "if (True and True) or (False and False):\n",
    "    print('what\\'s popping')"
   ]
  },
  {
   "cell_type": "markdown",
   "metadata": {},
   "source": [
    "elif: if the `if` statement does not resolve in `True` it will run the `elif` statements.\n",
    "\n",
    "else: if none of the above cases are true `else` automatically becomes `True`"
   ]
  },
  {
   "cell_type": "code",
   "execution_count": 10,
   "metadata": {},
   "outputs": [
    {
     "name": "stdout",
     "output_type": "stream",
     "text": [
      "Lets order burgers!\n"
     ]
    }
   ],
   "source": [
    "burgers = True\n",
    "pizza = False\n",
    "\n",
    "if burgers:\n",
    "    print('Lets order burgers!')\n",
    "elif pizza:\n",
    "    print('Lets order pizza!')\n",
    "else:\n",
    "    print('Actually...I\\'m not hungry')"
   ]
  },
  {
   "cell_type": "markdown",
   "metadata": {},
   "source": [
    "# Loops\n",
    "\n",
    "DONT REPEAT YOURSELF: loops and functions\n",
    "### Different Type of Loops\n",
    "NOTE: first term is inclusive, second term is exclusive\n",
    "- for-loop: \n",
    "- while loop (sentinal loop): runs while a condition is True\n",
    "- iterative loop: we aren't using positions, only aware of the number of elements, **not everything has a position**, we don't need to know the length. *don't need a length method*. Everything in Python is an object, that has an method called *iterate*. "
   ]
  },
  {
   "cell_type": "code",
   "execution_count": 13,
   "metadata": {},
   "outputs": [
    {
     "name": "stdout",
     "output_type": "stream",
     "text": [
      "iteration 0: d\n",
      "iteration 4: l\n",
      "iteration 8: d\n",
      "iteration 12: l\n",
      "iteration 16: o\n",
      "iteration 20: a\n",
      "iteration 24: t\n",
      "iteration 28: b\n"
     ]
    }
   ],
   "source": [
    "sentence = 'double, double toil and trouble'\n",
    "i = 0\n",
    "while i < len(sentence):\n",
    "    print('iteration %d: ' % (i) + sentence[i])\n",
    "    i += 4"
   ]
  },
  {
   "cell_type": "code",
   "execution_count": 14,
   "metadata": {},
   "outputs": [
    {
     "name": "stdout",
     "output_type": "stream",
     "text": [
      "1\n",
      "2\n",
      "3\n",
      "4\n"
     ]
    }
   ],
   "source": [
    "# iterative loop\n",
    "for i in [1,2,3,4]:\n",
    "    print(i)"
   ]
  },
  {
   "cell_type": "markdown",
   "metadata": {},
   "source": [
    "## Tuple\n",
    "- **ordered and immutable**\n",
    "- a tuple and a list are both ordered, however, a tuple is structured.\n",
    "- they are heterogeneous data structures\n",
    "- we deal with the tuple as one whole\n",
    "- string are immutable because concatenating string are the most expensive thing in terms of runtime. Increase performance of these operations. \n",
    "- good when exposing read-only access\n",
    "\n",
    "```python\n",
    "(tm_year=2018,tm_mon=7,tm_day=19)\n",
    "```\n",
    "- using a tuple to represent time, structed, so that year will always be first."
   ]
  },
  {
   "cell_type": "code",
   "execution_count": 1,
   "metadata": {},
   "outputs": [],
   "source": [
    "tuple1 = (1,2,3)"
   ]
  },
  {
   "cell_type": "markdown",
   "metadata": {},
   "source": [
    "## Lists\n",
    "- want them to be homogenous\n",
    "- sequences but we want to deal with them individuals\n",
    "- a collection of individuals"
   ]
  },
  {
   "cell_type": "code",
   "execution_count": 26,
   "metadata": {},
   "outputs": [
    {
     "name": "stdout",
     "output_type": "stream",
     "text": [
      "There is character: w, at index 0\n",
      "There is character: a, at index 1\n",
      "There is character: t, at index 2\n",
      "There is character: s, at index 3\n",
      "There is character: a, at index 4\n",
      "There is character: p, at index 5\n"
     ]
    }
   ],
   "source": [
    "for i, c in enumerate('watsap'):\n",
    "    print('There is character: %s, at index %d' % (c,i))"
   ]
  },
  {
   "cell_type": "markdown",
   "metadata": {},
   "source": [
    "## Lists\n",
    "- can make mixed-types list\n",
    "- type system only starts to appear when you start operating on them\n",
    "- not a great practice to mix types"
   ]
  },
  {
   "cell_type": "markdown",
   "metadata": {},
   "source": [
    "## Loops and String\n",
    "- internalization: programming language will store it and hash it in memory, when another person references it; it will just call the location in memory."
   ]
  },
  {
   "cell_type": "code",
   "execution_count": 25,
   "metadata": {},
   "outputs": [
    {
     "name": "stdout",
     "output_type": "stream",
     "text": [
      "the strings are not the same\n"
     ]
    },
    {
     "data": {
      "text/plain": [
       "'\\n== is the deep equality comparison operator.\\n'"
      ]
     },
     "execution_count": 25,
     "metadata": {},
     "output_type": "execute_result"
    }
   ],
   "source": [
    "first = 'cool'\n",
    "second = ''\n",
    "for c in first:\n",
    "    second += c\n",
    "if first is second: # comparing if they have the same ID, address in memory.\n",
    "    print('the strings are the same!')\n",
    "else: # its not about the content\n",
    "    print('the strings are not the same')\n",
    "'''\n",
    "== is the deep equality comparison operator.\n",
    "'''"
   ]
  },
  {
   "cell_type": "code",
   "execution_count": 22,
   "metadata": {},
   "outputs": [
    {
     "data": {
      "text/plain": [
       "True"
      ]
     },
     "execution_count": 22,
     "metadata": {},
     "output_type": "execute_result"
    }
   ],
   "source": [
    "first = 'cool'\n",
    "second = first\n",
    "first is second"
   ]
  },
  {
   "cell_type": "code",
   "execution_count": 24,
   "metadata": {},
   "outputs": [
    {
     "data": {
      "text/plain": [
       "True"
      ]
     },
     "execution_count": 24,
     "metadata": {},
     "output_type": "execute_result"
    }
   ],
   "source": [
    "first = 'cool' # internalizing\n",
    "second = 'cool' # referencing the same id\n",
    "first is second"
   ]
  }
 ],
 "metadata": {
  "kernelspec": {
   "display_name": "Python 3",
   "language": "python",
   "name": "python3"
  },
  "language_info": {
   "codemirror_mode": {
    "name": "ipython",
    "version": 3
   },
   "file_extension": ".py",
   "mimetype": "text/x-python",
   "name": "python",
   "nbconvert_exporter": "python",
   "pygments_lexer": "ipython3",
   "version": "3.5.5"
  }
 },
 "nbformat": 4,
 "nbformat_minor": 2
}
